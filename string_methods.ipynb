{
 "cells": [
  {
   "cell_type": "code",
   "execution_count": 4,
   "id": "57319ccc",
   "metadata": {},
   "outputs": [],
   "source": [
    "s=\"Iam a student in RGUKT srikakulam\""
   ]
  },
  {
   "cell_type": "code",
   "execution_count": 5,
   "id": "6474e59c",
   "metadata": {},
   "outputs": [
    {
     "name": "stdout",
     "output_type": "stream",
     "text": [
      "Iam a student in RGUKT srikakulam\n"
     ]
    }
   ],
   "source": [
    "print(s)"
   ]
  },
  {
   "cell_type": "code",
   "execution_count": 6,
   "id": "3d73947b",
   "metadata": {},
   "outputs": [
    {
     "data": {
      "text/plain": [
       "'IAM A STUDENT IN RGUKT SRIKAKULAM'"
      ]
     },
     "execution_count": 6,
     "metadata": {},
     "output_type": "execute_result"
    }
   ],
   "source": [
    "s.upper()"
   ]
  },
  {
   "cell_type": "code",
   "execution_count": 7,
   "id": "ff52c944",
   "metadata": {},
   "outputs": [
    {
     "data": {
      "text/plain": [
       "'iam a student in rgukt srikakulam'"
      ]
     },
     "execution_count": 7,
     "metadata": {},
     "output_type": "execute_result"
    }
   ],
   "source": [
    "s.lower()"
   ]
  },
  {
   "cell_type": "code",
   "execution_count": 8,
   "id": "98baeb5a",
   "metadata": {},
   "outputs": [
    {
     "data": {
      "text/plain": [
       "'Iam A Student In Rgukt Srikakulam'"
      ]
     },
     "execution_count": 8,
     "metadata": {},
     "output_type": "execute_result"
    }
   ],
   "source": [
    "s.title()#capitalize every letter"
   ]
  },
  {
   "cell_type": "code",
   "execution_count": 10,
   "id": "be351702",
   "metadata": {},
   "outputs": [
    {
     "data": {
      "text/plain": [
       "'Iam a student in rgukt srikakulam'"
      ]
     },
     "execution_count": 10,
     "metadata": {},
     "output_type": "execute_result"
    }
   ],
   "source": [
    "s.capitalize()#only capitalize the first letter remaining all are lower"
   ]
  },
  {
   "cell_type": "code",
   "execution_count": 11,
   "id": "fcc2c889",
   "metadata": {},
   "outputs": [
    {
     "name": "stdout",
     "output_type": "stream",
     "text": [
      "True\n"
     ]
    }
   ],
   "source": [
    "print(\"in\" in s)"
   ]
  },
  {
   "cell_type": "code",
   "execution_count": 12,
   "id": "ebb550e3",
   "metadata": {},
   "outputs": [
    {
     "name": "stdout",
     "output_type": "stream",
     "text": [
      "False\n"
     ]
    }
   ],
   "source": [
    "print(\"is\" in s)"
   ]
  },
  {
   "cell_type": "code",
   "execution_count": 13,
   "id": "510acbc3",
   "metadata": {},
   "outputs": [
    {
     "data": {
      "text/plain": [
       "'Iam a student in RGUKT srikakulam'"
      ]
     },
     "execution_count": 13,
     "metadata": {},
     "output_type": "execute_result"
    }
   ],
   "source": [
    "s.strip()"
   ]
  },
  {
   "cell_type": "code",
   "execution_count": 14,
   "id": "d13f3933",
   "metadata": {},
   "outputs": [
    {
     "data": {
      "text/plain": [
       "'f g h'"
      ]
     },
     "execution_count": 14,
     "metadata": {},
     "output_type": "execute_result"
    }
   ],
   "source": [
    "w=\" f g h \"\n",
    "w.strip() #remove left and right white spaces"
   ]
  },
  {
   "cell_type": "code",
   "execution_count": 15,
   "id": "9d5d3c88",
   "metadata": {},
   "outputs": [
    {
     "data": {
      "text/plain": [
       "['Iam', 'a', 'student', 'in', 'RGUKT', 'srikakulam']"
      ]
     },
     "execution_count": 15,
     "metadata": {},
     "output_type": "execute_result"
    }
   ],
   "source": [
    "s.split() #output is a list of elements"
   ]
  },
  {
   "cell_type": "code",
   "execution_count": 16,
   "id": "ddf3f8cc",
   "metadata": {},
   "outputs": [
    {
     "data": {
      "text/plain": [
       "'malukakirs TKUGR ni tneduts a maI'"
      ]
     },
     "execution_count": 16,
     "metadata": {},
     "output_type": "execute_result"
    }
   ],
   "source": [
    "''.join(reversed(s))"
   ]
  },
  {
   "cell_type": "code",
   "execution_count": 19,
   "id": "000bfe54",
   "metadata": {},
   "outputs": [
    {
     "data": {
      "text/plain": [
       "'m a l u k a k i r s   T K U G R   n i   t n e d u t s   a   m a I'"
      ]
     },
     "execution_count": 19,
     "metadata": {},
     "output_type": "execute_result"
    }
   ],
   "source": [
    "' '.join(reversed(s)) #adds white space btw each letter"
   ]
  },
  {
   "cell_type": "code",
   "execution_count": 44,
   "id": "95db6554",
   "metadata": {},
   "outputs": [
    {
     "data": {
      "text/plain": [
       "'Iam a student in RGUKT srikakulam@'"
      ]
     },
     "execution_count": 44,
     "metadata": {},
     "output_type": "execute_result"
    }
   ],
   "source": [
    "s.center(34,'@')#add @ to extra length , str(len)=33"
   ]
  },
  {
   "cell_type": "code",
   "execution_count": 30,
   "id": "8e726812",
   "metadata": {},
   "outputs": [
    {
     "data": {
      "text/plain": [
       "'I a m   a   s t u d e n t   i n   R G U K T   s r i k a k u l a m'"
      ]
     },
     "execution_count": 30,
     "metadata": {},
     "output_type": "execute_result"
    }
   ],
   "source": [
    "' '.join(s)"
   ]
  },
  {
   "cell_type": "code",
   "execution_count": 65,
   "id": "87ccbc5c",
   "metadata": {},
   "outputs": [],
   "source": [
    "a=\"Iam Divyasree\""
   ]
  },
  {
   "cell_type": "code",
   "execution_count": 67,
   "id": "b8d69e58",
   "metadata": {},
   "outputs": [
    {
     "data": {
      "text/plain": [
       "'Iam Divyasree*'"
      ]
     },
     "execution_count": 67,
     "metadata": {},
     "output_type": "execute_result"
    }
   ],
   "source": [
    "a.center(14,'*')"
   ]
  },
  {
   "cell_type": "code",
   "execution_count": 47,
   "id": "d94a5579",
   "metadata": {},
   "outputs": [
    {
     "data": {
      "text/plain": [
       "True"
      ]
     },
     "execution_count": 47,
     "metadata": {},
     "output_type": "execute_result"
    }
   ],
   "source": [
    "a=\" \"\n",
    "a.isspace()"
   ]
  },
  {
   "cell_type": "code",
   "execution_count": 48,
   "id": "2ce91300",
   "metadata": {},
   "outputs": [
    {
     "data": {
      "text/plain": [
       "2"
      ]
     },
     "execution_count": 48,
     "metadata": {},
     "output_type": "execute_result"
    }
   ],
   "source": [
    "s.count(\"s\")#counts the letter s"
   ]
  },
  {
   "cell_type": "code",
   "execution_count": 64,
   "id": "54f3e15e",
   "metadata": {},
   "outputs": [
    {
     "data": {
      "text/plain": [
       "True"
      ]
     },
     "execution_count": 64,
     "metadata": {},
     "output_type": "execute_result"
    }
   ],
   "source": [
    "k=\"15\"\n",
    "k.isdigit()"
   ]
  },
  {
   "cell_type": "code",
   "execution_count": 53,
   "id": "f52697eb",
   "metadata": {},
   "outputs": [
    {
     "data": {
      "text/plain": [
       "True"
      ]
     },
     "execution_count": 53,
     "metadata": {},
     "output_type": "execute_result"
    }
   ],
   "source": [
    "k.isnumeric()"
   ]
  },
  {
   "cell_type": "code",
   "execution_count": 57,
   "id": "98f4884b",
   "metadata": {},
   "outputs": [
    {
     "data": {
      "text/plain": [
       "True"
      ]
     },
     "execution_count": 57,
     "metadata": {},
     "output_type": "execute_result"
    }
   ],
   "source": [
    "k=\"fifteen\"\n",
    "k.isalpha()"
   ]
  },
  {
   "cell_type": "code",
   "execution_count": 58,
   "id": "bdb83802",
   "metadata": {},
   "outputs": [
    {
     "data": {
      "text/plain": [
       "False"
      ]
     },
     "execution_count": 58,
     "metadata": {},
     "output_type": "execute_result"
    }
   ],
   "source": [
    "k=\"15 is fifteen\"\n",
    "k.isalpha()"
   ]
  },
  {
   "cell_type": "code",
   "execution_count": 62,
   "id": "dd6d58d0",
   "metadata": {},
   "outputs": [
    {
     "data": {
      "text/plain": [
       "True"
      ]
     },
     "execution_count": 62,
     "metadata": {},
     "output_type": "execute_result"
    }
   ],
   "source": [
    "k=\"15fifteen\"\n",
    "k.isalnum()"
   ]
  },
  {
   "cell_type": "code",
   "execution_count": 68,
   "id": "8fcec445",
   "metadata": {},
   "outputs": [
    {
     "data": {
      "text/plain": [
       "True"
      ]
     },
     "execution_count": 68,
     "metadata": {},
     "output_type": "execute_result"
    }
   ],
   "source": [
    "s.endswith(\"m\")"
   ]
  },
  {
   "cell_type": "code",
   "execution_count": 82,
   "id": "bc0ec04e",
   "metadata": {},
   "outputs": [
    {
     "data": {
      "text/plain": [
       "True"
      ]
     },
     "execution_count": 82,
     "metadata": {},
     "output_type": "execute_result"
    }
   ],
   "source": [
    "s.startswith(\"I\")#gives false if \"i\""
   ]
  },
  {
   "cell_type": "code",
   "execution_count": 69,
   "id": "8c40a845",
   "metadata": {},
   "outputs": [
    {
     "data": {
      "text/plain": [
       "'iam a student in rgukt srikakulam'"
      ]
     },
     "execution_count": 69,
     "metadata": {},
     "output_type": "execute_result"
    }
   ],
   "source": [
    "s.casefold()"
   ]
  },
  {
   "cell_type": "code",
   "execution_count": 72,
   "id": "8892dae2",
   "metadata": {},
   "outputs": [
    {
     "data": {
      "text/plain": [
       "b'Iam a student in RGUKT srikakulam'"
      ]
     },
     "execution_count": 72,
     "metadata": {},
     "output_type": "execute_result"
    }
   ],
   "source": [
    "s.encode()"
   ]
  },
  {
   "cell_type": "code",
   "execution_count": 93,
   "id": "6864b23a",
   "metadata": {},
   "outputs": [
    {
     "data": {
      "text/plain": [
       "'h e l l o'"
      ]
     },
     "execution_count": 93,
     "metadata": {},
     "output_type": "execute_result"
    }
   ],
   "source": [
    "m=\"h\\te\\tl\\tl\\to\"\n",
    "m.expandtabs()\n",
    "m.expandtabs(2) #sets tab size to specified white spaces"
   ]
  },
  {
   "cell_type": "code",
   "execution_count": 76,
   "id": "da6e21e3",
   "metadata": {},
   "outputs": [
    {
     "data": {
      "text/plain": [
       "1"
      ]
     },
     "execution_count": 76,
     "metadata": {},
     "output_type": "execute_result"
    }
   ],
   "source": [
    "s.find(\"a\")"
   ]
  },
  {
   "cell_type": "code",
   "execution_count": 80,
   "id": "d3734a93",
   "metadata": {},
   "outputs": [
    {
     "data": {
      "text/plain": [
       "14"
      ]
     },
     "execution_count": 80,
     "metadata": {},
     "output_type": "execute_result"
    }
   ],
   "source": [
    "s.index(\"in\")"
   ]
  },
  {
   "cell_type": "code",
   "execution_count": 87,
   "id": "2958693f",
   "metadata": {},
   "outputs": [
    {
     "data": {
      "text/plain": [
       "'iAM A STUDENT IN rgukt SRIKAKULAM'"
      ]
     },
     "execution_count": 87,
     "metadata": {},
     "output_type": "execute_result"
    }
   ],
   "source": [
    "s.swapcase()# returns the string where upper is lower viceversa"
   ]
  },
  {
   "cell_type": "code",
   "execution_count": null,
   "id": "97fbf2bc",
   "metadata": {},
   "outputs": [],
   "source": []
  }
 ],
 "metadata": {
  "kernelspec": {
   "display_name": "Python 3 (ipykernel)",
   "language": "python",
   "name": "python3"
  },
  "language_info": {
   "codemirror_mode": {
    "name": "ipython",
    "version": 3
   },
   "file_extension": ".py",
   "mimetype": "text/x-python",
   "name": "python",
   "nbconvert_exporter": "python",
   "pygments_lexer": "ipython3",
   "version": "3.9.12"
  }
 },
 "nbformat": 4,
 "nbformat_minor": 5
}
